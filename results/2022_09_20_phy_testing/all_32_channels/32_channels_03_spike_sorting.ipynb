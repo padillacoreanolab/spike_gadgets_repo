{
 "cells": [
  {
   "cell_type": "code",
   "execution_count": 1,
   "metadata": {},
   "outputs": [],
   "source": [
    "%matplotlib inline"
   ]
  },
  {
   "cell_type": "markdown",
   "metadata": {},
   "source": [
    "# Preprocessing and Spike Sorting Tutorial"
   ]
  },
  {
   "cell_type": "markdown",
   "metadata": {},
   "source": [
    "- In this introductory example, you will see how to use the :code:`spikeinterface` to perform a full electrophysiology analysis.\n",
    "- We will first create some simulated data, and we will then perform some pre-processing, run a couple of spike sorting algorithms, inspect and validate the results, export to Phy, and compare spike sorters.\n"
   ]
  },
  {
   "cell_type": "code",
   "execution_count": 2,
   "metadata": {},
   "outputs": [],
   "source": [
    "import os\n",
    "import pickle\n",
    "import _pickle as cPickle\n",
    "import glob\n",
    "import warnings"
   ]
  },
  {
   "cell_type": "code",
   "execution_count": 3,
   "metadata": {},
   "outputs": [],
   "source": [
    "from collections import defaultdict\n",
    "import time\n",
    "import json\n",
    "from datetime import datetime"
   ]
  },
  {
   "cell_type": "code",
   "execution_count": 4,
   "metadata": {},
   "outputs": [],
   "source": [
    "import matplotlib.pyplot as plt\n",
    "from matplotlib.pyplot import cm\n",
    "import numpy as np\n",
    "import pandas as pd\n",
    "import scipy.signal"
   ]
  },
  {
   "cell_type": "code",
   "execution_count": 5,
   "metadata": {},
   "outputs": [
    {
     "data": {
      "text/plain": [
       "<Figure size 640x480 with 0 Axes>"
      ]
     },
     "execution_count": 5,
     "metadata": {},
     "output_type": "execute_result"
    },
    {
     "data": {
      "text/plain": [
       "<Figure size 640x480 with 0 Axes>"
      ]
     },
     "metadata": {},
     "output_type": "display_data"
    }
   ],
   "source": [
    "# Changing the figure size\n",
    "from matplotlib.pyplot import figure\n",
    "figure(figsize=(8, 6), dpi=80)"
   ]
  },
  {
   "cell_type": "markdown",
   "metadata": {},
   "source": [
    "The spikeinterface module by itself import only the spikeinterface.core submodule\n",
    "which is not useful for end user\n",
    "\n"
   ]
  },
  {
   "cell_type": "code",
   "execution_count": 6,
   "metadata": {},
   "outputs": [],
   "source": [
    "import spikeinterface"
   ]
  },
  {
   "cell_type": "markdown",
   "metadata": {},
   "source": [
    "We need to import one by one different submodules separately (preferred).\n",
    "There are 5 modules:\n",
    "\n",
    "- :code:`extractors` : file IO\n",
    "- :code:`toolkit` : processing toolkit for pre-, post-processing, validation, and automatic curation\n",
    "- :code:`sorters` : Python wrappers of spike sorters\n",
    "- :code:`comparison` : comparison of spike sorting output\n",
    "- :code:`widgets` : visualization\n",
    "\n"
   ]
  },
  {
   "cell_type": "code",
   "execution_count": 7,
   "metadata": {},
   "outputs": [],
   "source": [
    "import spikeinterface as si  # import core only\n",
    "import spikeinterface.extractors as se\n",
    "import spikeinterface.toolkit as st\n",
    "import spikeinterface.sorters as ss\n",
    "import spikeinterface.comparison as sc\n",
    "import spikeinterface.widgets as sw"
   ]
  },
  {
   "cell_type": "code",
   "execution_count": 8,
   "metadata": {},
   "outputs": [],
   "source": [
    "import spikeinterface.core"
   ]
  },
  {
   "cell_type": "code",
   "execution_count": 9,
   "metadata": {},
   "outputs": [],
   "source": [
    "from probeinterface import get_probe\n",
    "from probeinterface.plotting import plot_probe, plot_probe_group\n",
    "from probeinterface import write_prb, read_prb"
   ]
  },
  {
   "cell_type": "code",
   "execution_count": null,
   "metadata": {},
   "outputs": [],
   "source": []
  },
  {
   "cell_type": "markdown",
   "metadata": {},
   "source": [
    "We can also import all submodules at once with this\n",
    "  this internally import core+extractors+toolkit+sorters+comparison+widgets+exporters\n",
    "\n",
    "This is useful for notebooks but this is a more heavy import because internally many more dependency\n",
    "are imported (scipy/sklearn/networkx/matplotlib/h5py...)\n",
    "\n"
   ]
  },
  {
   "cell_type": "code",
   "execution_count": 10,
   "metadata": {},
   "outputs": [],
   "source": [
    "import spikeinterface.full as si"
   ]
  },
  {
   "cell_type": "code",
   "execution_count": 11,
   "metadata": {},
   "outputs": [],
   "source": [
    "# Increase size of plot in jupyter\n",
    "\n",
    "plt.rcParams[\"figure.figsize\"] = (10,6)"
   ]
  },
  {
   "cell_type": "markdown",
   "metadata": {},
   "source": [
    "# Part 1: Importing Data"
   ]
  },
  {
   "cell_type": "markdown",
   "metadata": {},
   "source": [
    "## Loading in the Electrophysiology Recording"
   ]
  },
  {
   "cell_type": "markdown",
   "metadata": {},
   "source": [
    "- We are inputting the electrophsiology recording data with probe information. This should have been created in the prevous notebook in a directory created by Spike Interface. If you had already read in your own electrophsiology recording data with probe information with a different way, then follow these instructions.\n",
    "    - If you want to use a different directory, then you must either:\n",
    "        - Change `glob.glob({./path/to/with/*/recording_raw})` to the directory that you have the directories created from Spikeinterface. You can use a wildcard if you have multiple folders. You would replace `{./path/to/with/*/recording_raw}` with the path to either the parent directory or the actual directory containing the electrophsiology recording data read into Spikeinterface.\n",
    "        - Or change `(file_or_folder_or_dict={./path/to/recording_raw})`. You would replace `{./path/to/recording_raw}` with the path to either the parent directory or the actual directory containing the electrophsiology recording data read into Spikeinterface."
   ]
  },
  {
   "cell_type": "code",
   "execution_count": 12,
   "metadata": {},
   "outputs": [],
   "source": [
    "all_recording_preprocessing_directories = glob.glob(\"./proc/*/preprocessing\", recursive=True)"
   ]
  },
  {
   "cell_type": "code",
   "execution_count": 13,
   "metadata": {},
   "outputs": [],
   "source": [
    "all_recording_preprocessing_directories = sorted(all_recording_preprocessing_directories)"
   ]
  },
  {
   "cell_type": "code",
   "execution_count": 14,
   "metadata": {},
   "outputs": [
    {
     "data": {
      "text/plain": [
       "['./proc/20220915_162638_loggerrecwithmcu_merged/preprocessing']"
      ]
     },
     "execution_count": 14,
     "metadata": {},
     "output_type": "execute_result"
    }
   ],
   "source": [
    "all_recording_preprocessing_directories"
   ]
  },
  {
   "cell_type": "markdown",
   "metadata": {},
   "source": [
    "- If you have more than one recording directory, then you must either:\n",
    "    - A. Put the index of the file in `all_recording_directories[0]` below. You would replace the `0` with the correct index. (Remember, Python is zero indexed so the first file in the list is 0. Second is 1, and so forth.\n",
    "    - B. Add a absolute or relative path to `(file_or_folder_or_dict={./path/to/recording_file.rec}`) below. You would replace `{./path/to/recording_file.rec}` with the path of the file for the metadata."
   ]
  },
  {
   "cell_type": "code",
   "execution_count": 15,
   "metadata": {},
   "outputs": [],
   "source": [
    "# To be used for all steps\n",
    "recording_preprocessed = spikeinterface.core.load_extractor(file_or_folder_or_dict=all_recording_preprocessing_directories[0])"
   ]
  },
  {
   "cell_type": "code",
   "execution_count": 16,
   "metadata": {},
   "outputs": [
    {
     "data": {
      "text/plain": [
       "spikeinterface.core.binaryrecordingextractor.BinaryRecordingExtractor"
      ]
     },
     "execution_count": 16,
     "metadata": {},
     "output_type": "execute_result"
    }
   ],
   "source": [
    "type(recording_preprocessed)"
   ]
  },
  {
   "cell_type": "markdown",
   "metadata": {},
   "source": [
    "## Metadata from the recording file"
   ]
  },
  {
   "cell_type": "markdown",
   "metadata": {},
   "source": [
    "- This is how you retrieve info from a :code:`RecordingExtractor`...\n",
    "\n"
   ]
  },
  {
   "cell_type": "code",
   "execution_count": 17,
   "metadata": {
    "scrolled": false
   },
   "outputs": [
    {
     "name": "stdout",
     "output_type": "stream",
     "text": [
      "Channel ids: ['0' '1' '2' '3' '4' '5' '6' '7' '8' '9' '10' '11' '12' '13' '14' '15'\n",
      " '16' '17' '18' '19' '20' '21' '22' '23' '24' '25' '26' '27' '28' '29'\n",
      " '30' '31']\n",
      "Sampling frequency: 20000.0\n",
      "Number of channels: 32\n",
      "Number of segments: 1\n",
      "Duration: 10731967\n",
      "Number of hours: 0.1490550972222222\n"
     ]
    }
   ],
   "source": [
    "channel_ids = recording_preprocessed.get_channel_ids()\n",
    "fs = recording_preprocessed.get_sampling_frequency()\n",
    "num_chan = recording_preprocessed.get_num_channels()\n",
    "num_seg = recording_preprocessed.get_num_segments()\n",
    "duration = recording_preprocessed.get_num_frames()\n",
    "\n",
    "print('Channel ids:', channel_ids)\n",
    "print('Sampling frequency:', fs)\n",
    "print('Number of channels:', num_chan)\n",
    "print('Number of segments:', num_seg)\n",
    "print('Duration:', duration)\n",
    "print('Number of hours:', duration/fs/3600)"
   ]
  },
  {
   "cell_type": "markdown",
   "metadata": {},
   "source": [
    "- Looking over the recording file"
   ]
  },
  {
   "cell_type": "code",
   "execution_count": 18,
   "metadata": {},
   "outputs": [
    {
     "data": {
      "text/plain": [
       "Text(0, 0.5, 'Channels')"
      ]
     },
     "execution_count": 18,
     "metadata": {},
     "output_type": "execute_result"
    },
    {
     "data": {
      "image/png": "[encoded data removed]",
      "text/plain": [
       "<Figure size 720x432 with 1 Axes>"
      ]
     },
     "metadata": {
      "needs_background": "light"
     },
     "output_type": "display_data"
    }
   ],
   "source": [
    "sw.plot_timeseries(recording_preprocessed, show_channel_ids=True)\n",
    "plt.title(\"Timeseries for Traces for Preprocessed Recording\")\n",
    "plt.ylabel(\"Channels\")"
   ]
  },
  {
   "cell_type": "code",
   "execution_count": 19,
   "metadata": {},
   "outputs": [],
   "source": [
    "channel_ids = np.random.choice(recording_preprocessed.channel_ids, size=5, replace=False)"
   ]
  },
  {
   "cell_type": "code",
   "execution_count": 20,
   "metadata": {},
   "outputs": [],
   "source": [
    "channel_ids = sorted(channel_ids, key=lambda x: float(x))"
   ]
  },
  {
   "cell_type": "code",
   "execution_count": 21,
   "metadata": {},
   "outputs": [
    {
     "data": {
      "text/plain": [
       "Text(0, 0.5, 'Channels')"
      ]
     },
     "execution_count": 21,
     "metadata": {},
     "output_type": "execute_result"
    },
    {
     "data": {
      "image/png": "[encoded data removed]",
      "text/plain": [
       "<Figure size 720x432 with 1 Axes>"
      ]
     },
     "metadata": {
      "needs_background": "light"
     },
     "output_type": "display_data"
    }
   ],
   "source": [
    "\n",
    "sw.plot_timeseries(recording_preprocessed, channel_ids=channel_ids, show_channel_ids=True)\n",
    "plt.title(\"Timeseries for Traces for Preprocessed Recording\")\n",
    "plt.ylabel(\"Channels\")"
   ]
  },
  {
   "cell_type": "markdown",
   "metadata": {},
   "source": [
    "- Looking over the probe"
   ]
  },
  {
   "cell_type": "code",
   "execution_count": 22,
   "metadata": {},
   "outputs": [],
   "source": [
    "probe_object = recording_preprocessed.get_probegroup()"
   ]
  },
  {
   "cell_type": "code",
   "execution_count": 23,
   "metadata": {},
   "outputs": [
    {
     "data": {
      "image/png": "[encoded data removed]",
      "text/plain": [
       "<Figure size 720x432 with 1 Axes>"
      ]
     },
     "metadata": {
      "needs_background": "light"
     },
     "output_type": "display_data"
    }
   ],
   "source": [
    "plot_probe_group(probe_object, same_axes=False, with_channel_index=True)\n",
    "plt.show()"
   ]
  },
  {
   "cell_type": "markdown",
   "metadata": {},
   "source": [
    "# Part 2: Sorting"
   ]
  },
  {
   "cell_type": "markdown",
   "metadata": {},
   "source": [
    "Now you are ready to spike sort using the :code:`sorters` module!\n",
    "Let's first check which sorters are implemented and which are installed\n",
    "\n"
   ]
  },
  {
   "cell_type": "code",
   "execution_count": 24,
   "metadata": {
    "scrolled": false
   },
   "outputs": [
    {
     "name": "stdout",
     "output_type": "stream",
     "text": [
      "Available sorters ['combinato', 'hdsort', 'herdingspikes', 'ironclust', 'kilosort', 'kilosort2', 'kilosort2_5', 'kilosort3', 'klusta', 'mountainsort4', 'pykilosort', 'spykingcircus', 'tridesclous', 'waveclus', 'yass']\n"
     ]
    }
   ],
   "source": [
    "print('Available sorters', ss.available_sorters())"
   ]
  },
  {
   "cell_type": "markdown",
   "metadata": {},
   "source": [
    "The :code:`ss.installed_sorters()` will list the sorters installed in the machine.\n",
    "We can see we have mountainsort4 and Tridesclous installed.\n",
    "Spike sorters come with a set of parameters that users can change.\n",
    "The available parameters are dictionaries and can be accessed with:\n",
    "\n"
   ]
  },
  {
   "cell_type": "code",
   "execution_count": 25,
   "metadata": {},
   "outputs": [],
   "source": [
    "sorter_name = 'mountainsort4'"
   ]
  },
  {
   "cell_type": "code",
   "execution_count": 26,
   "metadata": {},
   "outputs": [
    {
     "name": "stdout",
     "output_type": "stream",
     "text": [
      "{'detect_sign': -1, 'adjacency_radius': -1, 'freq_min': 300, 'freq_max': 6000, 'filter': True, 'whiten': True, 'num_workers': 1, 'clip_size': 50, 'detect_threshold': 3, 'detect_interval': 10}\n"
     ]
    }
   ],
   "source": [
    "print(ss.get_default_params(sorter_name))"
   ]
  },
  {
   "cell_type": "markdown",
   "metadata": {},
   "source": [
    "Let's run a spike sorter and change one of the parameter, say, the detect_threshold:\n",
    "\n"
   ]
  },
  {
   "cell_type": "code",
   "execution_count": 27,
   "metadata": {},
   "outputs": [],
   "source": [
    "ss_params = ss.get_default_params(sorter_name).copy()"
   ]
  },
  {
   "cell_type": "markdown",
   "metadata": {},
   "source": [
    "- Changing the default parameters for these parameters\n",
    "    - These are the parameters changed in Maya's video"
   ]
  },
  {
   "cell_type": "code",
   "execution_count": 28,
   "metadata": {},
   "outputs": [],
   "source": [
    "ss_params['adjacency_radius'] = 100\n",
    "ss_params['detect_sign'] = 0\n",
    "ss_params['filter'] = False\n",
    "ss_params['num_workers'] = 8\n",
    "ss_params['detect_interval'] = 30"
   ]
  },
  {
   "cell_type": "markdown",
   "metadata": {},
   "source": [
    "## Creating a folder for Spike Sorting Output"
   ]
  },
  {
   "cell_type": "code",
   "execution_count": 29,
   "metadata": {},
   "outputs": [],
   "source": [
    "all_parent_recording_directories = glob.glob(\"./proc/*\")"
   ]
  },
  {
   "cell_type": "code",
   "execution_count": 30,
   "metadata": {},
   "outputs": [],
   "source": [
    "all_parent_recording_directories = sorted(all_parent_recording_directories)"
   ]
  },
  {
   "cell_type": "code",
   "execution_count": 31,
   "metadata": {},
   "outputs": [
    {
     "data": {
      "text/plain": [
       "['./proc/20220915_162638_loggerrecwithmcu_merged']"
      ]
     },
     "execution_count": 31,
     "metadata": {},
     "output_type": "execute_result"
    }
   ],
   "source": [
    "all_parent_recording_directories"
   ]
  },
  {
   "cell_type": "markdown",
   "metadata": {},
   "source": [
    "- If you have more than one recording directory, then you must either:\n",
    "    - A. Put the index of the file in `all_recording_directories[0]` below. You would replace the `0` with the correct index. (Remember, Python is zero indexed so the first file in the list is 0. Second is 1, and so forth.\n",
    "    - B. Add a absolute or relative path to `(file_or_folder_or_dict={./path/to/recording_file.rec}`) below. You would replace `{./path/to/recording_file.rec}` with the path of the file for the metadata."
   ]
  },
  {
   "cell_type": "code",
   "execution_count": 32,
   "metadata": {},
   "outputs": [],
   "source": [
    "parent_output_directory = all_parent_recording_directories[0]"
   ]
  },
  {
   "cell_type": "markdown",
   "metadata": {},
   "source": [
    "- Creating a directory within the recording directory for preprocessing and saving the preprocessed recordings into it "
   ]
  },
  {
   "cell_type": "code",
   "execution_count": 33,
   "metadata": {},
   "outputs": [],
   "source": [
    "parent_spikesorting_output_directory = os.path.join(parent_output_directory, sorter_name)\n"
   ]
  },
  {
   "cell_type": "code",
   "execution_count": 34,
   "metadata": {},
   "outputs": [
    {
     "data": {
      "text/plain": [
       "'./proc/20220915_162638_loggerrecwithmcu_merged/mountainsort4'"
      ]
     },
     "execution_count": 34,
     "metadata": {},
     "output_type": "execute_result"
    }
   ],
   "source": [
    "parent_spikesorting_output_directory"
   ]
  },
  {
   "cell_type": "code",
   "execution_count": 35,
   "metadata": {},
   "outputs": [],
   "source": [
    "current_date = datetime.today().strftime('%Y_%m_%d')\n",
    "\n",
    "dated_spikesorting_output_directory = os.path.join(parent_spikesorting_output_directory, current_date)"
   ]
  },
  {
   "cell_type": "code",
   "execution_count": 36,
   "metadata": {},
   "outputs": [
    {
     "data": {
      "text/plain": [
       "'./proc/20220915_162638_loggerrecwithmcu_merged/mountainsort4/2022_09_20'"
      ]
     },
     "execution_count": 36,
     "metadata": {},
     "output_type": "execute_result"
    }
   ],
   "source": [
    "dated_spikesorting_output_directory"
   ]
  },
  {
   "cell_type": "code",
   "execution_count": 37,
   "metadata": {},
   "outputs": [],
   "source": [
    "os.makedirs(dated_spikesorting_output_directory, exist_ok=True)"
   ]
  },
  {
   "cell_type": "markdown",
   "metadata": {},
   "source": [
    "- Sorting usually takes at least a hour. Uncomment the code block below to run it. "
   ]
  },
  {
   "cell_type": "code",
   "execution_count": 38,
   "metadata": {},
   "outputs": [],
   "source": [
    "all_sorter_methods = [sorter for sorter in dir(ss) if sorter_name in sorter and \"run\" in sorter]"
   ]
  },
  {
   "cell_type": "code",
   "execution_count": 39,
   "metadata": {},
   "outputs": [
    {
     "data": {
      "text/plain": [
       "['run_mountainsort4']"
      ]
     },
     "execution_count": 39,
     "metadata": {},
     "output_type": "execute_result"
    }
   ],
   "source": [
    "all_sorter_methods"
   ]
  },
  {
   "cell_type": "code",
   "execution_count": 40,
   "metadata": {},
   "outputs": [],
   "source": [
    "sorter_method_name = all_sorter_methods[0]"
   ]
  },
  {
   "cell_type": "code",
   "execution_count": 41,
   "metadata": {},
   "outputs": [],
   "source": [
    "sorter_method_call = getattr(ss, sorter_method_name)"
   ]
  },
  {
   "cell_type": "code",
   "execution_count": 42,
   "metadata": {},
   "outputs": [
    {
     "data": {
      "text/plain": [
       "<function spikeinterface.sorters.runsorter.run_mountainsort4(*args, **kwargs)>"
      ]
     },
     "execution_count": 42,
     "metadata": {},
     "output_type": "execute_result"
    }
   ],
   "source": [
    "sorter_method_call"
   ]
  },
  {
   "cell_type": "code",
   "execution_count": 43,
   "metadata": {},
   "outputs": [],
   "source": [
    "child_spikesorting_output_directory = os.path.join(dated_spikesorting_output_directory,\"ss_output\")"
   ]
  },
  {
   "cell_type": "code",
   "execution_count": 44,
   "metadata": {},
   "outputs": [
    {
     "data": {
      "text/plain": [
       "'./proc/20220915_162638_loggerrecwithmcu_merged/mountainsort4/2022_09_20/ss_output'"
      ]
     },
     "execution_count": 44,
     "metadata": {},
     "output_type": "execute_result"
    }
   ],
   "source": [
    "child_spikesorting_output_directory"
   ]
  },
  {
   "cell_type": "code",
   "execution_count": 45,
   "metadata": {},
   "outputs": [
    {
     "name": "stderr",
     "output_type": "stream",
     "text": [
      "/nancy/user/riwata/projects/spike_sorting/bin/conda_environments/env/spike_interface_env/lib/python3.7/site-packages/MEArec/tools.py:19: DeprecationWarning: distutils Version classes are deprecated. Use packaging.version instead.\n",
      "  if StrictVersion(yaml.__version__) >= StrictVersion('5.0.0'):\n",
      "/nancy/user/riwata/projects/spike_sorting/bin/conda_environments/env/spike_interface_env/lib/python3.7/site-packages/MEArec/simulate_cells.py:19: DeprecationWarning: distutils Version classes are deprecated. Use packaging.version instead.\n",
      "  if StrictVersion(yaml.__version__) >= StrictVersion('5.0.0'):\n",
      "/nancy/user/riwata/projects/spike_sorting/bin/conda_environments/env/spike_interface_env/lib/python3.7/site-packages/MEArec/generators/templategenerator.py:13: DeprecationWarning: distutils Version classes are deprecated. Use packaging.version instead.\n",
      "  if StrictVersion(yaml.__version__) >= StrictVersion('5.0.0'):\n",
      "/nancy/user/riwata/projects/spike_sorting/bin/conda_environments/env/spike_interface_env/lib/python3.7/site-packages/MEArec/generators/recordinggenerator.py:27: DeprecationWarning: distutils Version classes are deprecated. Use packaging.version instead.\n",
      "  if StrictVersion(yaml.__version__) >= StrictVersion('5.0.0'):\n",
      "/nancy/user/riwata/projects/spike_sorting/bin/conda_environments/env/spike_interface_env/lib/python3.7/site-packages/MEArec/generation_tools.py:12: DeprecationWarning: distutils Version classes are deprecated. Use packaging.version instead.\n",
      "  if StrictVersion(yaml.__version__) >= StrictVersion('5.0.0'):\n",
      "/nancy/user/riwata/projects/spike_sorting/bin/conda_environments/env/spike_interface_env/lib/python3.7/site-packages/spikeextractors/extractors/mearecextractors/mearecextractors.py:13: DeprecationWarning: distutils Version classes are deprecated. Use packaging.version instead.\n",
      "  if StrictVersion(mr.__version__) >= '1.5.0':\n"
     ]
    },
    {
     "name": "stdout",
     "output_type": "stream",
     "text": [
      "whitenning\n",
      "Mountainsort4 use the OLD spikeextractors mapped with RecordingExtractorOldAPI\n",
      "Using 8 workers.\n",
      "Using tmpdir: /tmp/tmp0qt35geh\n",
      "Num. workers = 8\n",
      "Preparing /tmp/tmp0qt35geh/timeseries.hdf5...\n",
      "Preparing neighborhood sorters (M=32, N=10731967)...\n",
      "Neighboorhood of channel 13 has 1 channels.\n",
      "Detecting events on channel 14 (phase1)...\n",
      "Neighboorhood of channel 19 has 1 channels.\n",
      "Detecting events on channel 20 (phase1)...\n",
      "Neighboorhood of channel 24 has 1 channels.\n",
      "Detecting events on channel 25 (phase1)...\n",
      "Neighboorhood of channel 4 has 1 channels.\n",
      "Detecting events on channel 5 (phase1)...\n",
      "Neighboorhood of channel 12 has 1 channels.\n",
      "Detecting events on channel 13 (phase1)...\n",
      "Neighboorhood of channel 25 has 1 channels.\n",
      "Detecting events on channel 26 (phase1)...\n",
      "Elapsed time for detect on neighborhood: 0:00:04.576968\n",
      "Num events detected on channel 14 (phase1): 28042\n",
      "Computing PCA features for channel 14 (phase1)...\n",
      "Elapsed time for detect on neighborhood: 0:00:04.578179\n",
      "Num events detected on channel 20 (phase1): 44583\n",
      "Computing PCA features for channel 20 (phase1)...\n",
      "Elapsed time for detect on neighborhood: 0:00:04.580874\n",
      "Num events detected on channel 5 (phase1): 42179\n",
      "Computing PCA features for channel 5 (phase1)...\n",
      "Elapsed time for detect on neighborhood: 0:00:04.632577\n",
      "Num events detected on channel 25 (phase1): 37605\n",
      "Computing PCA features for channel 25 (phase1)...\n",
      "Elapsed time for detect on neighborhood: 0:00:04.611227\n",
      "Num events detected on channel 13 (phase1): 34302\n",
      "Computing PCA features for channel 13 (phase1)...\n",
      "Elapsed time for detect on neighborhood: 0:00:04.638774\n",
      "Num events detected on channel 26 (phase1): 33270\n",
      "Computing PCA features for channel 26 (phase1)...\n",
      "Clustering for channel 20 (phase1)...\n",
      "Clustering for channel 14 (phase1)...\n",
      "Clustering for channel 5 (phase1)...\n",
      "Clustering for channel 25 (phase1)...\n",
      "Clustering for channel 13 (phase1)...\n",
      "Clustering for channel 26 (phase1)...\n",
      "Found 3 clusters for channel 20 (phase1)...\n",
      "Computing templates for channel 20 (phase1)...\n",
      "Found 2 clusters for channel 26 (phase1)...\n",
      "Computing templates for channel 26 (phase1)...\n",
      "Re-assigning events for channel 20 (phase1)...\n",
      "Neighboorhood of channel 14 has 1 channels.\n",
      "Detecting events on channel 15 (phase1)...\n",
      "Found 2 clusters for channel 13 (phase1)...\n",
      "Computing templates for channel 13 (phase1)...\n",
      "Re-assigning events for channel 13 (phase1)...\n",
      "Neighboorhood of channel 11 has 1 channels.\n",
      "Detecting events on channel 12 (phase1)...\n",
      "Found 3 clusters for channel 14 (phase1)...\n",
      "Computing templates for channel 14 (phase1)...\n",
      "Re-assigning events for channel 26 (phase1)...\n",
      "Neighboorhood of channel 15 has 1 channels.\n",
      "Detecting events on channel 16 (phase1)...\n",
      "Found 2 clusters for channel 25 (phase1)...\n",
      "Computing templates for channel 25 (phase1)...\n",
      "Found 5 clusters for channel 5 (phase1)...\n",
      "Computing templates for channel 5 (phase1)...\n",
      "Re-assigning events for channel 14 (phase1)...\n",
      "Neighboorhood of channel 8 has 1 channels.\n",
      "Detecting events on channel 9 (phase1)...\n",
      "Re-assigning events for channel 25 (phase1)...\n",
      "Neighboorhood of channel 30 has 1 channels.\n",
      "Detecting events on channel 31 (phase1)...\n",
      "Re-assigning events for channel 5 (phase1)...\n",
      "Neighboorhood of channel 26 has 1 channels.\n",
      "Detecting events on channel 27 (phase1)...\n",
      "Elapsed time for detect on neighborhood: 0:00:04.384901\n",
      "Num events detected on channel 15 (phase1): 39393\n",
      "Computing PCA features for channel 15 (phase1)...\n",
      "Elapsed time for detect on neighborhood: 0:00:04.251753\n",
      "Num events detected on channel 12 (phase1): 32144\n",
      "Computing PCA features for channel 12 (phase1)...\n",
      "Elapsed time for detect on neighborhood: 0:00:04.724831\n",
      "Num events detected on channel 16 (phase1): 33775\n",
      "Computing PCA features for channel 16 (phase1)...\n",
      "Elapsed time for detect on neighborhood: 0:00:04.653483\n",
      "Num events detected on channel 9 (phase1): 18794\n",
      "Computing PCA features for channel 9 (phase1)...\n",
      "Elapsed time for detect on neighborhood: 0:00:04.687445\n",
      "Num events detected on channel 31 (phase1): 27139\n",
      "Computing PCA features for channel 31 (phase1)...\n",
      "Elapsed time for detect on neighborhood: 0:00:04.704757\n",
      "Num events detected on channel 27 (phase1): 33824\n",
      "Clustering for channel 15 (phase1)...\n",
      "Computing PCA features for channel 27 (phase1)...\n",
      "Clustering for channel 12 (phase1)...\n",
      "Clustering for channel 16 (phase1)...\n",
      "Clustering for channel 31 (phase1)...\n",
      "Clustering for channel 27 (phase1)...\n",
      "Clustering for channel 9 (phase1)...\n",
      "Found 2 clusters for channel 15 (phase1)...\n",
      "Computing templates for channel 15 (phase1)...\n",
      "Found 3 clusters for channel 12 (phase1)...\n",
      "Computing templates for channel 12 (phase1)...\n",
      "Found 3 clusters for channel 31 (phase1)...\n",
      "Computing templates for channel 31 (phase1)...\n",
      "Found 4 clusters for channel 9 (phase1)...\n",
      "Computing templates for channel 9 (phase1)...\n",
      "Re-assigning events for channel 15 (phase1)...\n",
      "Neighboorhood of channel 7 has 1 channels.\n",
      "Detecting events on channel 8 (phase1)...\n",
      "Found 2 clusters for channel 16 (phase1)...\n",
      "Computing templates for channel 16 (phase1)...\n",
      "Found 2 clusters for channel 27 (phase1)...\n",
      "Computing templates for channel 27 (phase1)...\n",
      "Re-assigning events for channel 12 (phase1)...\n",
      "Re-assigning events for channel 31 (phase1)...\n",
      "Neighboorhood of channel 3 has 1 channels.\n",
      "Detecting events on channel 4 (phase1)...\n",
      "Re-assigning events for channel 9 (phase1)...\n",
      "Neighboorhood of channel 31 has 1 channels.\n",
      "Detecting events on channel 32 (phase1)...\n",
      "Re-assigning events for channel 16 (phase1)...\n",
      "Neighboorhood of channel 22 has 1 channels.\n",
      "Detecting events on channel 23 (phase1)...\n",
      "Re-assigning events for channel 27 (phase1)...\n",
      "Neighboorhood of channel 16 has 1 channels.\n",
      "Detecting events on channel 17 (phase1)...\n",
      "Elapsed time for detect on neighborhood: 0:00:02.789933\n",
      "Num events detected on channel 23 (phase1): 31946\n",
      "Computing PCA features for channel 23 (phase1)...\n",
      "Elapsed time for detect on neighborhood: 0:00:03.009864\n",
      "Num events detected on channel 8 (phase1): 34479\n",
      "Computing PCA features for channel 8 (phase1)...\n",
      "Elapsed time for detect on neighborhood: 0:00:03.154482\n",
      "Num events detected on channel 4 (phase1): 25918\n",
      "Computing PCA features for channel 4 (phase1)...\n",
      "Elapsed time for detect on neighborhood: 0:00:03.202172\n",
      "Num events detected on channel 17 (phase1): 19189\n",
      "Elapsed time for detect on neighborhood: 0:00:03.294609\n",
      "Num events detected on channel 32 (phase1): 34031\n",
      "Computing PCA features for channel 32 (phase1)...\n",
      "Computing PCA features for channel 17 (phase1)...\n",
      "Clustering for channel 23 (phase1)...\n",
      "Clustering for channel 8 (phase1)...\n",
      "Clustering for channel 4 (phase1)...\n",
      "Clustering for channel 17 (phase1)...\n",
      "Clustering for channel 32 (phase1)...\n",
      "Found 2 clusters for channel 23 (phase1)...\n",
      "Computing templates for channel 23 (phase1)...\n",
      "Found 2 clusters for channel 17 (phase1)...\n",
      "Computing templates for channel 17 (phase1)...\n",
      "Found 3 clusters for channel 4 (phase1)...\n",
      "Computing templates for channel 4 (phase1)...\n",
      "Re-assigning events for channel 23 (phase1)...\n",
      "Neighboorhood of channel 9 has 1 channels.\n",
      "Detecting events on channel 10 (phase1)...\n",
      "Re-assigning events for channel 17 (phase1)...\n",
      "Neighboorhood of channel 23 has 1 channels.\n",
      "Detecting events on channel 24 (phase1)...\n",
      "Found 2 clusters for channel 32 (phase1)...\n",
      "Computing templates for channel 32 (phase1)...\n",
      "Found 2 clusters for channel 8 (phase1)...\n",
      "Computing templates for channel 8 (phase1)...\n",
      "Re-assigning events for channel 4 (phase1)...\n",
      "Neighboorhood of channel 28 has 1 channels.\n",
      "Detecting events on channel 29 (phase1)...\n",
      "Re-assigning events for channel 32 (phase1)...\n",
      "Neighboorhood of channel 29 has 1 channels.\n",
      "Detecting events on channel 30 (phase1)...\n",
      "Re-assigning events for channel 8 (phase1)...\n",
      "Neighboorhood of channel 0 has 1 channels.\n",
      "Detecting events on channel 1 (phase1)...\n",
      "Elapsed time for detect on neighborhood: 0:00:02.783248\n",
      "Num events detected on channel 10 (phase1): 34030\n",
      "Computing PCA features for channel 10 (phase1)...\n",
      "Elapsed time for detect on neighborhood: 0:00:03.021383\n",
      "Num events detected on channel 24 (phase1): 41279\n",
      "Computing PCA features for channel 24 (phase1)...\n",
      "Clustering for channel 10 (phase1)...\n",
      "Elapsed time for detect on neighborhood: 0:00:03.154792\n",
      "Num events detected on channel 30 (phase1): 33531\n",
      "Computing PCA features for channel 30 (phase1)...\n"
     ]
    },
    {
     "name": "stdout",
     "output_type": "stream",
     "text": [
      "Elapsed time for detect on neighborhood: 0:00:03.463019\n",
      "Num events detected on channel 29 (phase1): 38948\n",
      "Computing PCA features for channel 29 (phase1)...\n",
      "Elapsed time for detect on neighborhood: 0:00:03.361347\n",
      "Num events detected on channel 1 (phase1): 31976\n",
      "Computing PCA features for channel 1 (phase1)...\n",
      "Clustering for channel 24 (phase1)...\n",
      "Clustering for channel 30 (phase1)...\n",
      "Found 2 clusters for channel 10 (phase1)...\n",
      "Computing templates for channel 10 (phase1)...\n",
      "Clustering for channel 1 (phase1)...\n",
      "Clustering for channel 29 (phase1)...\n",
      "Re-assigning events for channel 10 (phase1)...\n",
      "Neighboorhood of channel 5 has 1 channels.\n",
      "Detecting events on channel 6 (phase1)...\n",
      "Found 2 clusters for channel 24 (phase1)...\n",
      "Computing templates for channel 24 (phase1)...\n",
      "Found 2 clusters for channel 1 (phase1)...\n",
      "Computing templates for channel 1 (phase1)...\n",
      "Re-assigning events for channel 1 (phase1)...\n",
      "Neighboorhood of channel 2 has 1 channels.\n",
      "Detecting events on channel 3 (phase1)...\n",
      "Re-assigning events for channel 24 (phase1)...\n",
      "Neighboorhood of channel 17 has 1 channels.\n",
      "Detecting events on channel 18 (phase1)...\n",
      "Found 3 clusters for channel 30 (phase1)...\n",
      "Computing templates for channel 30 (phase1)...\n",
      "Found 4 clusters for channel 29 (phase1)...\n",
      "Computing templates for channel 29 (phase1)...\n",
      "Re-assigning events for channel 30 (phase1)...\n",
      "Neighboorhood of channel 1 has 1 channels.\n",
      "Detecting events on channel 2 (phase1)...\n",
      "Re-assigning events for channel 29 (phase1)...\n",
      "Neighboorhood of channel 10 has 1 channels.\n",
      "Detecting events on channel 11 (phase1)...\n",
      "Elapsed time for detect on neighborhood: 0:00:02.987471\n",
      "Num events detected on channel 6 (phase1): 31830\n",
      "Computing PCA features for channel 6 (phase1)...\n",
      "Clustering for channel 6 (phase1)...\n",
      "Elapsed time for detect on neighborhood: 0:00:02.956817\n",
      "Num events detected on channel 18 (phase1): 19303\n",
      "Computing PCA features for channel 18 (phase1)...\n",
      "Elapsed time for detect on neighborhood: 0:00:03.135205\n",
      "Num events detected on channel 3 (phase1): 33358\n",
      "Computing PCA features for channel 3 (phase1)...\n",
      "Found 3 clusters for channel 6 (phase1)...\n",
      "Computing templates for channel 6 (phase1)...\n",
      "Clustering for channel 18 (phase1)...\n",
      "Elapsed time for detect on neighborhood: 0:00:03.595199\n",
      "Num events detected on channel 11 (phase1): 37378\n",
      "Computing PCA features for channel 11 (phase1)...\n",
      "Elapsed time for detect on neighborhood: 0:00:03.928865\n",
      "Num events detected on channel 2 (phase1): 27469\n",
      "Computing PCA features for channel 2 (phase1)...\n",
      "Clustering for channel 3 (phase1)...\n",
      "Re-assigning events for channel 6 (phase1)...\n",
      "Neighboorhood of channel 20 has 1 channels.\n",
      "Detecting events on channel 21 (phase1)...\n",
      "Found 2 clusters for channel 18 (phase1)...\n",
      "Computing templates for channel 18 (phase1)...\n",
      "Re-assigning events for channel 18 (phase1)...\n",
      "Neighboorhood of channel 6 has 1 channels.\n",
      "Detecting events on channel 7 (phase1)...\n",
      "Clustering for channel 2 (phase1)...\n",
      "Clustering for channel 11 (phase1)...\n",
      "Found 2 clusters for channel 3 (phase1)...\n",
      "Computing templates for channel 3 (phase1)...\n",
      "Re-assigning events for channel 3 (phase1)...\n",
      "Neighboorhood of channel 27 has 1 channels.\n",
      "Detecting events on channel 28 (phase1)...\n",
      "Found 3 clusters for channel 2 (phase1)...\n",
      "Computing templates for channel 2 (phase1)...\n",
      "Re-assigning events for channel 2 (phase1)...\n",
      "Neighboorhood of channel 18 has 1 channels.\n",
      "Detecting events on channel 19 (phase1)...\n",
      "Found 3 clusters for channel 11 (phase1)...\n",
      "Computing templates for channel 11 (phase1)...\n",
      "Re-assigning events for channel 11 (phase1)...\n",
      "Neighboorhood of channel 21 has 1 channels.\n",
      "Detecting events on channel 22 (phase1)...\n",
      "Elapsed time for detect on neighborhood: 0:00:03.614973\n",
      "Num events detected on channel 21 (phase1): 30780\n",
      "Computing PCA features for channel 21 (phase1)...\n",
      "Elapsed time for detect on neighborhood: 0:00:02.880527\n",
      "Num events detected on channel 7 (phase1): 30969\n",
      "Computing PCA features for channel 7 (phase1)...\n",
      "Clustering for channel 21 (phase1)...\n",
      "Clustering for channel 7 (phase1)...\n",
      "Elapsed time for detect on neighborhood: 0:00:03.438715\n",
      "Num events detected on channel 28 (phase1): 23723\n",
      "Computing PCA features for channel 28 (phase1)...\n",
      "Elapsed time for detect on neighborhood: 0:00:03.484114\n",
      "Num events detected on channel 22 (phase1): 33787\n",
      "Computing PCA features for channel 22 (phase1)...\n",
      "Found 4 clusters for channel 7 (phase1)...\n",
      "Computing templates for channel 7 (phase1)...\n",
      "Found 4 clusters for channel 21 (phase1)...\n",
      "Computing templates for channel 21 (phase1)...\n",
      "Elapsed time for detect on neighborhood: 0:00:04.086624\n",
      "Num events detected on channel 19 (phase1): 35116\n",
      "Computing PCA features for channel 19 (phase1)...\n",
      "Re-assigning events for channel 7 (phase1)...\n",
      "Clustering for channel 28 (phase1)...\n",
      "Re-assigning events for channel 21 (phase1)...\n",
      "Clustering for channel 22 (phase1)...\n",
      "Clustering for channel 19 (phase1)...\n",
      "Found 4 clusters for channel 28 (phase1)...\n",
      "Computing templates for channel 28 (phase1)...\n",
      "Re-assigning events for channel 28 (phase1)...\n",
      "Found 2 clusters for channel 22 (phase1)...\n",
      "Computing templates for channel 22 (phase1)...\n",
      "Found 2 clusters for channel 19 (phase1)...\n",
      "Computing templates for channel 19 (phase1)...\n",
      "Re-assigning events for channel 22 (phase1)...\n",
      "Re-assigning events for channel 19 (phase1)...\n"
     ]
    },
    {
     "name": "stderr",
     "output_type": "stream",
     "text": [
      "/nancy/user/riwata/projects/spike_sorting/bin/conda_environments/env/spike_interface_env/lib/python3.7/site-packages/neo/io/nixio.py:57: DeprecationWarning: distutils Version classes are deprecated. Use packaging.version instead.\n",
      "  MIN_NIX_VER = Version(\"1.5.0\")\n",
      "/nancy/user/riwata/projects/spike_sorting/bin/conda_environments/env/spike_interface_env/lib/python3.7/site-packages/neo/io/neomatlabio.py:30: DeprecationWarning: distutils Version classes are deprecated. Use packaging.version instead.\n",
      "  if version.LooseVersion(scipy.version.version) < '0.12.0':\n",
      "/nancy/user/riwata/projects/spike_sorting/bin/conda_environments/env/spike_interface_env/lib/python3.7/site-packages/setuptools/_distutils/version.py:346: DeprecationWarning: distutils Version classes are deprecated. Use packaging.version instead.\n",
      "  other = LooseVersion(other)\n",
      "/nancy/user/riwata/projects/spike_sorting/bin/conda_environments/env/spike_interface_env/lib/python3.7/site-packages/MEArec/tools.py:19: DeprecationWarning: distutils Version classes are deprecated. Use packaging.version instead.\n",
      "  if StrictVersion(yaml.__version__) >= StrictVersion('5.0.0'):\n",
      "/nancy/user/riwata/projects/spike_sorting/bin/conda_environments/env/spike_interface_env/lib/python3.7/site-packages/MEArec/simulate_cells.py:19: DeprecationWarning: distutils Version classes are deprecated. Use packaging.version instead.\n",
      "  if StrictVersion(yaml.__version__) >= StrictVersion('5.0.0'):\n",
      "/nancy/user/riwata/projects/spike_sorting/bin/conda_environments/env/spike_interface_env/lib/python3.7/site-packages/MEArec/generators/templategenerator.py:13: DeprecationWarning: distutils Version classes are deprecated. Use packaging.version instead.\n",
      "  if StrictVersion(yaml.__version__) >= StrictVersion('5.0.0'):\n",
      "/nancy/user/riwata/projects/spike_sorting/bin/conda_environments/env/spike_interface_env/lib/python3.7/site-packages/MEArec/generators/recordinggenerator.py:27: DeprecationWarning: distutils Version classes are deprecated. Use packaging.version instead.\n",
      "  if StrictVersion(yaml.__version__) >= StrictVersion('5.0.0'):\n",
      "/nancy/user/riwata/projects/spike_sorting/bin/conda_environments/env/spike_interface_env/lib/python3.7/site-packages/MEArec/generation_tools.py:12: DeprecationWarning: distutils Version classes are deprecated. Use packaging.version instead.\n",
      "  if StrictVersion(yaml.__version__) >= StrictVersion('5.0.0'):\n",
      "/nancy/user/riwata/projects/spike_sorting/bin/conda_environments/env/spike_interface_env/lib/python3.7/site-packages/spikeextractors/extractors/mearecextractors/mearecextractors.py:13: DeprecationWarning: distutils Version classes are deprecated. Use packaging.version instead.\n",
      "  if StrictVersion(mr.__version__) >= '1.5.0':\n",
      "/nancy/user/riwata/projects/spike_sorting/bin/conda_environments/env/spike_interface_env/lib/python3.7/site-packages/neo/io/nixio.py:57: DeprecationWarning: distutils Version classes are deprecated. Use packaging.version instead.\n",
      "  MIN_NIX_VER = Version(\"1.5.0\")\n",
      "/nancy/user/riwata/projects/spike_sorting/bin/conda_environments/env/spike_interface_env/lib/python3.7/site-packages/neo/io/neomatlabio.py:30: DeprecationWarning: distutils Version classes are deprecated. Use packaging.version instead.\n",
      "  if version.LooseVersion(scipy.version.version) < '0.12.0':\n",
      "/nancy/user/riwata/projects/spike_sorting/bin/conda_environments/env/spike_interface_env/lib/python3.7/site-packages/setuptools/_distutils/version.py:346: DeprecationWarning: distutils Version classes are deprecated. Use packaging.version instead.\n",
      "  other = LooseVersion(other)\n",
      "/nancy/user/riwata/projects/spike_sorting/bin/conda_environments/env/spike_interface_env/lib/python3.7/site-packages/MEArec/tools.py:19: DeprecationWarning: distutils Version classes are deprecated. Use packaging.version instead.\n",
      "  if StrictVersion(yaml.__version__) >= StrictVersion('5.0.0'):\n",
      "/nancy/user/riwata/projects/spike_sorting/bin/conda_environments/env/spike_interface_env/lib/python3.7/site-packages/MEArec/simulate_cells.py:19: DeprecationWarning: distutils Version classes are deprecated. Use packaging.version instead.\n",
      "  if StrictVersion(yaml.__version__) >= StrictVersion('5.0.0'):\n",
      "/nancy/user/riwata/projects/spike_sorting/bin/conda_environments/env/spike_interface_env/lib/python3.7/site-packages/MEArec/generators/templategenerator.py:13: DeprecationWarning: distutils Version classes are deprecated. Use packaging.version instead.\n",
      "  if StrictVersion(yaml.__version__) >= StrictVersion('5.0.0'):\n",
      "/nancy/user/riwata/projects/spike_sorting/bin/conda_environments/env/spike_interface_env/lib/python3.7/site-packages/MEArec/generators/recordinggenerator.py:27: DeprecationWarning: distutils Version classes are deprecated. Use packaging.version instead.\n",
      "  if StrictVersion(yaml.__version__) >= StrictVersion('5.0.0'):\n",
      "/nancy/user/riwata/projects/spike_sorting/bin/conda_environments/env/spike_interface_env/lib/python3.7/site-packages/MEArec/generation_tools.py:12: DeprecationWarning: distutils Version classes are deprecated. Use packaging.version instead.\n",
      "  if StrictVersion(yaml.__version__) >= StrictVersion('5.0.0'):\n",
      "/nancy/user/riwata/projects/spike_sorting/bin/conda_environments/env/spike_interface_env/lib/python3.7/site-packages/spikeextractors/extractors/mearecextractors/mearecextractors.py:13: DeprecationWarning: distutils Version classes are deprecated. Use packaging.version instead.\n",
      "  if StrictVersion(mr.__version__) >= '1.5.0':\n",
      "/nancy/user/riwata/projects/spike_sorting/bin/conda_environments/env/spike_interface_env/lib/python3.7/site-packages/neo/io/nixio.py:57: DeprecationWarning: distutils Version classes are deprecated. Use packaging.version instead.\n",
      "  MIN_NIX_VER = Version(\"1.5.0\")\n",
      "/nancy/user/riwata/projects/spike_sorting/bin/conda_environments/env/spike_interface_env/lib/python3.7/site-packages/neo/io/neomatlabio.py:30: DeprecationWarning: distutils Version classes are deprecated. Use packaging.version instead.\n",
      "  if version.LooseVersion(scipy.version.version) < '0.12.0':\n",
      "/nancy/user/riwata/projects/spike_sorting/bin/conda_environments/env/spike_interface_env/lib/python3.7/site-packages/setuptools/_distutils/version.py:346: DeprecationWarning: distutils Version classes are deprecated. Use packaging.version instead.\n",
      "  other = LooseVersion(other)\n",
      "/nancy/user/riwata/projects/spike_sorting/bin/conda_environments/env/spike_interface_env/lib/python3.7/site-packages/MEArec/tools.py:19: DeprecationWarning: distutils Version classes are deprecated. Use packaging.version instead.\n",
      "  if StrictVersion(yaml.__version__) >= StrictVersion('5.0.0'):\n",
      "/nancy/user/riwata/projects/spike_sorting/bin/conda_environments/env/spike_interface_env/lib/python3.7/site-packages/MEArec/simulate_cells.py:19: DeprecationWarning: distutils Version classes are deprecated. Use packaging.version instead.\n",
      "  if StrictVersion(yaml.__version__) >= StrictVersion('5.0.0'):\n",
      "/nancy/user/riwata/projects/spike_sorting/bin/conda_environments/env/spike_interface_env/lib/python3.7/site-packages/MEArec/generators/templategenerator.py:13: DeprecationWarning: distutils Version classes are deprecated. Use packaging.version instead.\n",
      "  if StrictVersion(yaml.__version__) >= StrictVersion('5.0.0'):\n",
      "/nancy/user/riwata/projects/spike_sorting/bin/conda_environments/env/spike_interface_env/lib/python3.7/site-packages/MEArec/generators/recordinggenerator.py:27: DeprecationWarning: distutils Version classes are deprecated. Use packaging.version instead.\n",
      "  if StrictVersion(yaml.__version__) >= StrictVersion('5.0.0'):\n",
      "/nancy/user/riwata/projects/spike_sorting/bin/conda_environments/env/spike_interface_env/lib/python3.7/site-packages/MEArec/generation_tools.py:12: DeprecationWarning: distutils Version classes are deprecated. Use packaging.version instead.\n",
      "  if StrictVersion(yaml.__version__) >= StrictVersion('5.0.0'):\n",
      "/nancy/user/riwata/projects/spike_sorting/bin/conda_environments/env/spike_interface_env/lib/python3.7/site-packages/spikeextractors/extractors/mearecextractors/mearecextractors.py:13: DeprecationWarning: distutils Version classes are deprecated. Use packaging.version instead.\n",
      "  if StrictVersion(mr.__version__) >= '1.5.0':\n",
      "/nancy/user/riwata/projects/spike_sorting/bin/conda_environments/env/spike_interface_env/lib/python3.7/site-packages/neo/io/nixio.py:57: DeprecationWarning: distutils Version classes are deprecated. Use packaging.version instead.\n",
      "  MIN_NIX_VER = Version(\"1.5.0\")\n",
      "/nancy/user/riwata/projects/spike_sorting/bin/conda_environments/env/spike_interface_env/lib/python3.7/site-packages/neo/io/neomatlabio.py:30: DeprecationWarning: distutils Version classes are deprecated. Use packaging.version instead.\n",
      "  if version.LooseVersion(scipy.version.version) < '0.12.0':\n",
      "/nancy/user/riwata/projects/spike_sorting/bin/conda_environments/env/spike_interface_env/lib/python3.7/site-packages/setuptools/_distutils/version.py:346: DeprecationWarning: distutils Version classes are deprecated. Use packaging.version instead.\n",
      "  other = LooseVersion(other)\n",
      "/nancy/user/riwata/projects/spike_sorting/bin/conda_environments/env/spike_interface_env/lib/python3.7/site-packages/MEArec/tools.py:19: DeprecationWarning: distutils Version classes are deprecated. Use packaging.version instead.\n",
      "  if StrictVersion(yaml.__version__) >= StrictVersion('5.0.0'):\n",
      "/nancy/user/riwata/projects/spike_sorting/bin/conda_environments/env/spike_interface_env/lib/python3.7/site-packages/MEArec/simulate_cells.py:19: DeprecationWarning: distutils Version classes are deprecated. Use packaging.version instead.\n",
      "  if StrictVersion(yaml.__version__) >= StrictVersion('5.0.0'):\n",
      "/nancy/user/riwata/projects/spike_sorting/bin/conda_environments/env/spike_interface_env/lib/python3.7/site-packages/MEArec/generators/templategenerator.py:13: DeprecationWarning: distutils Version classes are deprecated. Use packaging.version instead.\n",
      "  if StrictVersion(yaml.__version__) >= StrictVersion('5.0.0'):\n",
      "/nancy/user/riwata/projects/spike_sorting/bin/conda_environments/env/spike_interface_env/lib/python3.7/site-packages/MEArec/generators/recordinggenerator.py:27: DeprecationWarning: distutils Version classes are deprecated. Use packaging.version instead.\n",
      "  if StrictVersion(yaml.__version__) >= StrictVersion('5.0.0'):\n",
      "/nancy/user/riwata/projects/spike_sorting/bin/conda_environments/env/spike_interface_env/lib/python3.7/site-packages/MEArec/generation_tools.py:12: DeprecationWarning: distutils Version classes are deprecated. Use packaging.version instead.\n",
      "  if StrictVersion(yaml.__version__) >= StrictVersion('5.0.0'):\n",
      "/nancy/user/riwata/projects/spike_sorting/bin/conda_environments/env/spike_interface_env/lib/python3.7/site-packages/spikeextractors/extractors/mearecextractors/mearecextractors.py:13: DeprecationWarning: distutils Version classes are deprecated. Use packaging.version instead.\n",
      "  if StrictVersion(mr.__version__) >= '1.5.0':\n",
      "/nancy/user/riwata/projects/spike_sorting/bin/conda_environments/env/spike_interface_env/lib/python3.7/site-packages/neo/io/nixio.py:57: DeprecationWarning: distutils Version classes are deprecated. Use packaging.version instead.\n",
      "  MIN_NIX_VER = Version(\"1.5.0\")\n",
      "/nancy/user/riwata/projects/spike_sorting/bin/conda_environments/env/spike_interface_env/lib/python3.7/site-packages/neo/io/neomatlabio.py:30: DeprecationWarning: distutils Version classes are deprecated. Use packaging.version instead.\n",
      "  if version.LooseVersion(scipy.version.version) < '0.12.0':\n",
      "/nancy/user/riwata/projects/spike_sorting/bin/conda_environments/env/spike_interface_env/lib/python3.7/site-packages/setuptools/_distutils/version.py:346: DeprecationWarning: distutils Version classes are deprecated. Use packaging.version instead.\n",
      "  other = LooseVersion(other)\n",
      "/nancy/user/riwata/projects/spike_sorting/bin/conda_environments/env/spike_interface_env/lib/python3.7/site-packages/MEArec/tools.py:19: DeprecationWarning: distutils Version classes are deprecated. Use packaging.version instead.\n",
      "  if StrictVersion(yaml.__version__) >= StrictVersion('5.0.0'):\n",
      "/nancy/user/riwata/projects/spike_sorting/bin/conda_environments/env/spike_interface_env/lib/python3.7/site-packages/MEArec/simulate_cells.py:19: DeprecationWarning: distutils Version classes are deprecated. Use packaging.version instead.\n",
      "  if StrictVersion(yaml.__version__) >= StrictVersion('5.0.0'):\n",
      "/nancy/user/riwata/projects/spike_sorting/bin/conda_environments/env/spike_interface_env/lib/python3.7/site-packages/MEArec/generators/templategenerator.py:13: DeprecationWarning: distutils Version classes are deprecated. Use packaging.version instead.\n",
      "  if StrictVersion(yaml.__version__) >= StrictVersion('5.0.0'):\n",
      "/nancy/user/riwata/projects/spike_sorting/bin/conda_environments/env/spike_interface_env/lib/python3.7/site-packages/MEArec/generators/recordinggenerator.py:27: DeprecationWarning: distutils Version classes are deprecated. Use packaging.version instead.\n",
      "  if StrictVersion(yaml.__version__) >= StrictVersion('5.0.0'):\n",
      "/nancy/user/riwata/projects/spike_sorting/bin/conda_environments/env/spike_interface_env/lib/python3.7/site-packages/MEArec/generation_tools.py:12: DeprecationWarning: distutils Version classes are deprecated. Use packaging.version instead.\n",
      "  if StrictVersion(yaml.__version__) >= StrictVersion('5.0.0'):\n",
      "/nancy/user/riwata/projects/spike_sorting/bin/conda_environments/env/spike_interface_env/lib/python3.7/site-packages/spikeextractors/extractors/mearecextractors/mearecextractors.py:13: DeprecationWarning: distutils Version classes are deprecated. Use packaging.version instead.\n",
      "  if StrictVersion(mr.__version__) >= '1.5.0':\n",
      "/nancy/user/riwata/projects/spike_sorting/bin/conda_environments/env/spike_interface_env/lib/python3.7/site-packages/neo/io/nixio.py:57: DeprecationWarning: distutils Version classes are deprecated. Use packaging.version instead.\n",
      "  MIN_NIX_VER = Version(\"1.5.0\")\n",
      "/nancy/user/riwata/projects/spike_sorting/bin/conda_environments/env/spike_interface_env/lib/python3.7/site-packages/neo/io/neomatlabio.py:30: DeprecationWarning: distutils Version classes are deprecated. Use packaging.version instead.\n",
      "  if version.LooseVersion(scipy.version.version) < '0.12.0':\n",
      "/nancy/user/riwata/projects/spike_sorting/bin/conda_environments/env/spike_interface_env/lib/python3.7/site-packages/setuptools/_distutils/version.py:346: DeprecationWarning: distutils Version classes are deprecated. Use packaging.version instead.\n",
      "  other = LooseVersion(other)\n",
      "/nancy/user/riwata/projects/spike_sorting/bin/conda_environments/env/spike_interface_env/lib/python3.7/site-packages/MEArec/tools.py:19: DeprecationWarning: distutils Version classes are deprecated. Use packaging.version instead.\n",
      "  if StrictVersion(yaml.__version__) >= StrictVersion('5.0.0'):\n",
      "/nancy/user/riwata/projects/spike_sorting/bin/conda_environments/env/spike_interface_env/lib/python3.7/site-packages/MEArec/simulate_cells.py:19: DeprecationWarning: distutils Version classes are deprecated. Use packaging.version instead.\n",
      "  if StrictVersion(yaml.__version__) >= StrictVersion('5.0.0'):\n",
      "/nancy/user/riwata/projects/spike_sorting/bin/conda_environments/env/spike_interface_env/lib/python3.7/site-packages/MEArec/generators/templategenerator.py:13: DeprecationWarning: distutils Version classes are deprecated. Use packaging.version instead.\n",
      "  if StrictVersion(yaml.__version__) >= StrictVersion('5.0.0'):\n",
      "/nancy/user/riwata/projects/spike_sorting/bin/conda_environments/env/spike_interface_env/lib/python3.7/site-packages/MEArec/generators/recordinggenerator.py:27: DeprecationWarning: distutils Version classes are deprecated. Use packaging.version instead.\n",
      "  if StrictVersion(yaml.__version__) >= StrictVersion('5.0.0'):\n",
      "/nancy/user/riwata/projects/spike_sorting/bin/conda_environments/env/spike_interface_env/lib/python3.7/site-packages/MEArec/generation_tools.py:12: DeprecationWarning: distutils Version classes are deprecated. Use packaging.version instead.\n",
      "  if StrictVersion(yaml.__version__) >= StrictVersion('5.0.0'):\n",
      "/nancy/user/riwata/projects/spike_sorting/bin/conda_environments/env/spike_interface_env/lib/python3.7/site-packages/spikeextractors/extractors/mearecextractors/mearecextractors.py:13: DeprecationWarning: distutils Version classes are deprecated. Use packaging.version instead.\n",
      "  if StrictVersion(mr.__version__) >= '1.5.0':\n"
     ]
    },
    {
     "name": "stdout",
     "output_type": "stream",
     "text": [
      "Neighboorhood of channel 9 has 1 channels.\n",
      "Computing PCA features for channel 10 (phase2)...\n",
      "Neighboorhood of channel 25 has 1 channels.\n",
      "Computing PCA features for channel 26 (phase2)...\n",
      "Neighboorhood of channel 14 has 1 channels.\n",
      "Computing PCA features for channel 15 (phase2)...\n",
      "Neighboorhood of channel 13 has 1 channels.\n",
      "Computing PCA features for channel 14 (phase2)...\n",
      "Neighboorhood of channel 20 has 1 channels.\n",
      "Computing PCA features for channel 21 (phase2)...\n",
      "Neighboorhood of channel 5 has 1 channels.\n",
      "Computing PCA features for channel 6 (phase2)...\n",
      "No duplicate events found for channel 9 in phase2\n",
      "Clustering for channel 10 (phase2)...\n",
      "No duplicate events found for channel 25 in phase2\n",
      "Clustering for channel 26 (phase2)...\n",
      "No duplicate events found for channel 14 in phase2\n",
      "Clustering for channel 15 (phase2)...\n",
      "No duplicate events found for channel 20 in phase2\n",
      "Clustering for channel 21 (phase2)...\n",
      "No duplicate events found for channel 13 in phase2\n",
      "Clustering for channel 14 (phase2)...\n",
      "No duplicate events found for channel 5 in phase2\n",
      "Clustering for channel 6 (phase2)...\n",
      "Found 2 clusters for channel 10 (phase2)...\n",
      "Neighboorhood of channel 29 has 1 channels.\n",
      "Computing PCA features for channel 30 (phase2)...\n",
      "Found 2 clusters for channel 26 (phase2)...\n",
      "Neighboorhood of channel 10 has 1 channels.\n",
      "Computing PCA features for channel 11 (phase2)...\n",
      "Found 2 clusters for channel 15 (phase2)...\n",
      "Neighboorhood of channel 22 has 1 channels.\n",
      "Computing PCA features for channel 23 (phase2)...\n",
      "Found 3 clusters for channel 14 (phase2)...\n",
      "Neighboorhood of channel 12 has 1 channels.\n",
      "Computing PCA features for channel 13 (phase2)...\n",
      "Found 3 clusters for channel 6 (phase2)...\n",
      "Neighboorhood of channel 28 has 1 channels.\n",
      "Computing PCA features for channel 29 (phase2)...\n",
      "Found 4 clusters for channel 21 (phase2)...\n",
      "Neighboorhood of channel 24 has 1 channels.\n",
      "Computing PCA features for channel 25 (phase2)...\n",
      "No duplicate events found for channel 10 in phase2\n",
      "Clustering for channel 11 (phase2)...\n",
      "No duplicate events found for channel 29 in phase2\n",
      "Clustering for channel 30 (phase2)...\n",
      "No duplicate events found for channel 22 in phase2\n",
      "Clustering for channel 23 (phase2)...\n",
      "No duplicate events found for channel 12 in phase2\n",
      "Clustering for channel 13 (phase2)...\n",
      "No duplicate events found for channel 24 in phase2\n",
      "Clustering for channel 25 (phase2)...\n",
      "No duplicate events found for channel 28 in phase2\n",
      "Clustering for channel 29 (phase2)...\n",
      "Found 3 clusters for channel 11 (phase2)...\n",
      "Neighboorhood of channel 21 has 1 channels.\n",
      "Computing PCA features for channel 22 (phase2)...\n",
      "Found 2 clusters for channel 13 (phase2)...\n",
      "Neighboorhood of channel 11 has 1 channels.\n",
      "Computing PCA features for channel 12 (phase2)...\n",
      "Found 2 clusters for channel 23 (phase2)...\n",
      "Neighboorhood of channel 26 has 1 channels.\n",
      "Computing PCA features for channel 27 (phase2)...\n",
      "Found 3 clusters for channel 30 (phase2)...\n",
      "Neighboorhood of channel 0 has 1 channels.\n",
      "Computing PCA features for channel 1 (phase2)...\n",
      "No duplicate events found for channel 21 in phase2\n",
      "Clustering for channel 22 (phase2)...\n",
      "Found 4 clusters for channel 29 (phase2)...\n",
      "Neighboorhood of channel 15 has 1 channels.\n",
      "Computing PCA features for channel 16 (phase2)...\n",
      "Found 2 clusters for channel 25 (phase2)...\n",
      "No duplicate events found for channel 11 in phase2\n",
      "Clustering for channel 12 (phase2)...\n",
      "No duplicate events found for channel 26 in phase2\n",
      "Clustering for channel 27 (phase2)...\n",
      "No duplicate events found for channel 0 in phase2\n",
      "Clustering for channel 1 (phase2)...\n",
      "Found 2 clusters for channel 22 (phase2)...\n",
      "Neighboorhood of channel 6 has 1 channels.\n",
      "Computing PCA features for channel 7 (phase2)...\n",
      "No duplicate events found for channel 15 in phase2\n",
      "Clustering for channel 16 (phase2)...\n",
      "Found 2 clusters for channel 1 (phase2)...\n",
      "Neighboorhood of channel 1 has 1 channels.\n",
      "Computing PCA features for channel 2 (phase2)...\n",
      "Found 2 clusters for channel 12 (phase2)...\n",
      "Neighboorhood of channel 2 has 1 channels.\n",
      "Computing PCA features for channel 3 (phase2)...\n",
      "No duplicate events found for channel 6 in phase2\n",
      "Clustering for channel 7 (phase2)...\n",
      "Found 2 clusters for channel 16 (phase2)...\n",
      "Neighboorhood of channel 23 has 1 channels.\n",
      "Computing PCA features for channel 24 (phase2)...\n",
      "Found 2 clusters for channel 27 (phase2)...\n",
      "Neighboorhood of channel 17 has 1 channels.\n",
      "Computing PCA features for channel 18 (phase2)...\n",
      "No duplicate events found for channel 2 in phase2\n",
      "Clustering for channel 3 (phase2)...\n",
      "No duplicate events found for channel 1 in phase2\n",
      "Clustering for channel 2 (phase2)...\n",
      "Found 4 clusters for channel 7 (phase2)...\n",
      "Neighboorhood of channel 31 has 1 channels.\n",
      "Computing PCA features for channel 32 (phase2)...\n",
      "No duplicate events found for channel 23 in phase2\n",
      "Clustering for channel 24 (phase2)...\n",
      "No duplicate events found for channel 17 in phase2\n",
      "Clustering for channel 18 (phase2)...\n",
      "Found 2 clusters for channel 3 (phase2)...\n",
      "Neighboorhood of channel 7 has 1 channels.\n",
      "Computing PCA features for channel 8 (phase2)...\n",
      "Found 3 clusters for channel 2 (phase2)...\n",
      "Neighboorhood of channel 30 has 1 channels.\n",
      "Computing PCA features for channel 31 (phase2)...\n",
      "No duplicate events found for channel 31 in phase2\n",
      "Clustering for channel 32 (phase2)...\n",
      "Found 2 clusters for channel 18 (phase2)...\n",
      "Neighboorhood of channel 18 has 1 channels.\n",
      "Computing PCA features for channel 19 (phase2)...\n",
      "No duplicate events found for channel 7 in phase2\n",
      "Clustering for channel 8 (phase2)...\n",
      "Found 2 clusters for channel 24 (phase2)...\n",
      "Neighboorhood of channel 16 has 1 channels.\n",
      "Computing PCA features for channel 17 (phase2)...\n",
      "Found 2 clusters for channel 32 (phase2)...\n",
      "Neighboorhood of channel 3 has 1 channels.\n",
      "Computing PCA features for channel 4 (phase2)...\n",
      "No duplicate events found for channel 18 in phase2\n",
      "Clustering for channel 19 (phase2)...\n",
      "No duplicate events found for channel 30 in phase2\n",
      "Clustering for channel 31 (phase2)...\n",
      "No duplicate events found for channel 16 in phase2\n",
      "Clustering for channel 17 (phase2)...\n",
      "No duplicate events found for channel 3 in phase2\n",
      "Clustering for channel 4 (phase2)...\n",
      "Found 2 clusters for channel 8 (phase2)...\n",
      "Neighboorhood of channel 19 has 1 channels.\n",
      "Computing PCA features for channel 20 (phase2)...\n",
      "Found 2 clusters for channel 17 (phase2)...\n",
      "Neighboorhood of channel 8 has 1 channels.\n",
      "Computing PCA features for channel 9 (phase2)...\n",
      "Found 2 clusters for channel 19 (phase2)...\n",
      "Neighboorhood of channel 27 has 1 channels.\n",
      "Computing PCA features for channel 28 (phase2)...\n",
      "Found 3 clusters for channel 31 (phase2)...\n",
      "Neighboorhood of channel 4 has 1 channels.\n",
      "Computing PCA features for channel 5 (phase2)...\n",
      "Found 4 clusters for channel 4 (phase2)...\n",
      "No duplicate events found for channel 8 in phase2\n",
      "Clustering for channel 9 (phase2)...\n",
      "No duplicate events found for channel 27 in phase2\n",
      "Clustering for channel 28 (phase2)...\n",
      "No duplicate events found for channel 4 in phase2\n",
      "Clustering for channel 5 (phase2)...\n",
      "No duplicate events found for channel 19 in phase2\n",
      "Clustering for channel 20 (phase2)...\n",
      "Found 3 clusters for channel 9 (phase2)...\n",
      "Found 4 clusters for channel 28 (phase2)...\n",
      "Found 5 clusters for channel 5 (phase2)...\n",
      "Found 3 clusters for channel 20 (phase2)...\n"
     ]
    },
    {
     "name": "stderr",
     "output_type": "stream",
     "text": [
      "/nancy/user/riwata/projects/spike_sorting/bin/conda_environments/env/spike_interface_env/lib/python3.7/site-packages/neo/io/nixio.py:57: DeprecationWarning: distutils Version classes are deprecated. Use packaging.version instead.\n",
      "  MIN_NIX_VER = Version(\"1.5.0\")\n",
      "/nancy/user/riwata/projects/spike_sorting/bin/conda_environments/env/spike_interface_env/lib/python3.7/site-packages/neo/io/neomatlabio.py:30: DeprecationWarning: distutils Version classes are deprecated. Use packaging.version instead.\n",
      "  if version.LooseVersion(scipy.version.version) < '0.12.0':\n",
      "/nancy/user/riwata/projects/spike_sorting/bin/conda_environments/env/spike_interface_env/lib/python3.7/site-packages/setuptools/_distutils/version.py:346: DeprecationWarning: distutils Version classes are deprecated. Use packaging.version instead.\n",
      "  other = LooseVersion(other)\n",
      "/nancy/user/riwata/projects/spike_sorting/bin/conda_environments/env/spike_interface_env/lib/python3.7/site-packages/MEArec/tools.py:19: DeprecationWarning: distutils Version classes are deprecated. Use packaging.version instead.\n",
      "  if StrictVersion(yaml.__version__) >= StrictVersion('5.0.0'):\n",
      "/nancy/user/riwata/projects/spike_sorting/bin/conda_environments/env/spike_interface_env/lib/python3.7/site-packages/MEArec/simulate_cells.py:19: DeprecationWarning: distutils Version classes are deprecated. Use packaging.version instead.\n",
      "  if StrictVersion(yaml.__version__) >= StrictVersion('5.0.0'):\n",
      "/nancy/user/riwata/projects/spike_sorting/bin/conda_environments/env/spike_interface_env/lib/python3.7/site-packages/MEArec/generators/templategenerator.py:13: DeprecationWarning: distutils Version classes are deprecated. Use packaging.version instead.\n",
      "  if StrictVersion(yaml.__version__) >= StrictVersion('5.0.0'):\n",
      "/nancy/user/riwata/projects/spike_sorting/bin/conda_environments/env/spike_interface_env/lib/python3.7/site-packages/MEArec/generators/recordinggenerator.py:27: DeprecationWarning: distutils Version classes are deprecated. Use packaging.version instead.\n",
      "  if StrictVersion(yaml.__version__) >= StrictVersion('5.0.0'):\n",
      "/nancy/user/riwata/projects/spike_sorting/bin/conda_environments/env/spike_interface_env/lib/python3.7/site-packages/MEArec/generation_tools.py:12: DeprecationWarning: distutils Version classes are deprecated. Use packaging.version instead.\n",
      "  if StrictVersion(yaml.__version__) >= StrictVersion('5.0.0'):\n",
      "/nancy/user/riwata/projects/spike_sorting/bin/conda_environments/env/spike_interface_env/lib/python3.7/site-packages/spikeextractors/extractors/mearecextractors/mearecextractors.py:13: DeprecationWarning: distutils Version classes are deprecated. Use packaging.version instead.\n",
      "  if StrictVersion(mr.__version__) >= '1.5.0':\n",
      "/nancy/user/riwata/projects/spike_sorting/bin/conda_environments/env/spike_interface_env/lib/python3.7/site-packages/neo/io/nixio.py:57: DeprecationWarning: distutils Version classes are deprecated. Use packaging.version instead.\n",
      "  MIN_NIX_VER = Version(\"1.5.0\")\n",
      "/nancy/user/riwata/projects/spike_sorting/bin/conda_environments/env/spike_interface_env/lib/python3.7/site-packages/neo/io/neomatlabio.py:30: DeprecationWarning: distutils Version classes are deprecated. Use packaging.version instead.\n",
      "  if version.LooseVersion(scipy.version.version) < '0.12.0':\n",
      "/nancy/user/riwata/projects/spike_sorting/bin/conda_environments/env/spike_interface_env/lib/python3.7/site-packages/setuptools/_distutils/version.py:346: DeprecationWarning: distutils Version classes are deprecated. Use packaging.version instead.\n",
      "  other = LooseVersion(other)\n",
      "/nancy/user/riwata/projects/spike_sorting/bin/conda_environments/env/spike_interface_env/lib/python3.7/site-packages/MEArec/tools.py:19: DeprecationWarning: distutils Version classes are deprecated. Use packaging.version instead.\n",
      "  if StrictVersion(yaml.__version__) >= StrictVersion('5.0.0'):\n",
      "/nancy/user/riwata/projects/spike_sorting/bin/conda_environments/env/spike_interface_env/lib/python3.7/site-packages/MEArec/simulate_cells.py:19: DeprecationWarning: distutils Version classes are deprecated. Use packaging.version instead.\n",
      "  if StrictVersion(yaml.__version__) >= StrictVersion('5.0.0'):\n",
      "/nancy/user/riwata/projects/spike_sorting/bin/conda_environments/env/spike_interface_env/lib/python3.7/site-packages/MEArec/generators/templategenerator.py:13: DeprecationWarning: distutils Version classes are deprecated. Use packaging.version instead.\n",
      "  if StrictVersion(yaml.__version__) >= StrictVersion('5.0.0'):\n",
      "/nancy/user/riwata/projects/spike_sorting/bin/conda_environments/env/spike_interface_env/lib/python3.7/site-packages/MEArec/generators/recordinggenerator.py:27: DeprecationWarning: distutils Version classes are deprecated. Use packaging.version instead.\n",
      "  if StrictVersion(yaml.__version__) >= StrictVersion('5.0.0'):\n",
      "/nancy/user/riwata/projects/spike_sorting/bin/conda_environments/env/spike_interface_env/lib/python3.7/site-packages/MEArec/generation_tools.py:12: DeprecationWarning: distutils Version classes are deprecated. Use packaging.version instead.\n",
      "  if StrictVersion(yaml.__version__) >= StrictVersion('5.0.0'):\n",
      "/nancy/user/riwata/projects/spike_sorting/bin/conda_environments/env/spike_interface_env/lib/python3.7/site-packages/spikeextractors/extractors/mearecextractors/mearecextractors.py:13: DeprecationWarning: distutils Version classes are deprecated. Use packaging.version instead.\n",
      "  if StrictVersion(mr.__version__) >= '1.5.0':\n",
      "/nancy/user/riwata/projects/spike_sorting/bin/conda_environments/env/spike_interface_env/lib/python3.7/site-packages/neo/io/nixio.py:57: DeprecationWarning: distutils Version classes are deprecated. Use packaging.version instead.\n",
      "  MIN_NIX_VER = Version(\"1.5.0\")\n",
      "/nancy/user/riwata/projects/spike_sorting/bin/conda_environments/env/spike_interface_env/lib/python3.7/site-packages/neo/io/neomatlabio.py:30: DeprecationWarning: distutils Version classes are deprecated. Use packaging.version instead.\n",
      "  if version.LooseVersion(scipy.version.version) < '0.12.0':\n",
      "/nancy/user/riwata/projects/spike_sorting/bin/conda_environments/env/spike_interface_env/lib/python3.7/site-packages/setuptools/_distutils/version.py:346: DeprecationWarning: distutils Version classes are deprecated. Use packaging.version instead.\n",
      "  other = LooseVersion(other)\n",
      "/nancy/user/riwata/projects/spike_sorting/bin/conda_environments/env/spike_interface_env/lib/python3.7/site-packages/MEArec/tools.py:19: DeprecationWarning: distutils Version classes are deprecated. Use packaging.version instead.\n",
      "  if StrictVersion(yaml.__version__) >= StrictVersion('5.0.0'):\n",
      "/nancy/user/riwata/projects/spike_sorting/bin/conda_environments/env/spike_interface_env/lib/python3.7/site-packages/MEArec/simulate_cells.py:19: DeprecationWarning: distutils Version classes are deprecated. Use packaging.version instead.\n",
      "  if StrictVersion(yaml.__version__) >= StrictVersion('5.0.0'):\n",
      "/nancy/user/riwata/projects/spike_sorting/bin/conda_environments/env/spike_interface_env/lib/python3.7/site-packages/MEArec/generators/templategenerator.py:13: DeprecationWarning: distutils Version classes are deprecated. Use packaging.version instead.\n",
      "  if StrictVersion(yaml.__version__) >= StrictVersion('5.0.0'):\n",
      "/nancy/user/riwata/projects/spike_sorting/bin/conda_environments/env/spike_interface_env/lib/python3.7/site-packages/MEArec/generators/recordinggenerator.py:27: DeprecationWarning: distutils Version classes are deprecated. Use packaging.version instead.\n",
      "  if StrictVersion(yaml.__version__) >= StrictVersion('5.0.0'):\n",
      "/nancy/user/riwata/projects/spike_sorting/bin/conda_environments/env/spike_interface_env/lib/python3.7/site-packages/MEArec/generation_tools.py:12: DeprecationWarning: distutils Version classes are deprecated. Use packaging.version instead.\n",
      "  if StrictVersion(yaml.__version__) >= StrictVersion('5.0.0'):\n",
      "/nancy/user/riwata/projects/spike_sorting/bin/conda_environments/env/spike_interface_env/lib/python3.7/site-packages/spikeextractors/extractors/mearecextractors/mearecextractors.py:13: DeprecationWarning: distutils Version classes are deprecated. Use packaging.version instead.\n",
      "  if StrictVersion(mr.__version__) >= '1.5.0':\n",
      "/nancy/user/riwata/projects/spike_sorting/bin/conda_environments/env/spike_interface_env/lib/python3.7/site-packages/neo/io/nixio.py:57: DeprecationWarning: distutils Version classes are deprecated. Use packaging.version instead.\n",
      "  MIN_NIX_VER = Version(\"1.5.0\")\n",
      "/nancy/user/riwata/projects/spike_sorting/bin/conda_environments/env/spike_interface_env/lib/python3.7/site-packages/neo/io/neomatlabio.py:30: DeprecationWarning: distutils Version classes are deprecated. Use packaging.version instead.\n",
      "  if version.LooseVersion(scipy.version.version) < '0.12.0':\n",
      "/nancy/user/riwata/projects/spike_sorting/bin/conda_environments/env/spike_interface_env/lib/python3.7/site-packages/setuptools/_distutils/version.py:346: DeprecationWarning: distutils Version classes are deprecated. Use packaging.version instead.\n",
      "  other = LooseVersion(other)\n",
      "/nancy/user/riwata/projects/spike_sorting/bin/conda_environments/env/spike_interface_env/lib/python3.7/site-packages/MEArec/tools.py:19: DeprecationWarning: distutils Version classes are deprecated. Use packaging.version instead.\n",
      "  if StrictVersion(yaml.__version__) >= StrictVersion('5.0.0'):\n",
      "/nancy/user/riwata/projects/spike_sorting/bin/conda_environments/env/spike_interface_env/lib/python3.7/site-packages/MEArec/simulate_cells.py:19: DeprecationWarning: distutils Version classes are deprecated. Use packaging.version instead.\n",
      "  if StrictVersion(yaml.__version__) >= StrictVersion('5.0.0'):\n",
      "/nancy/user/riwata/projects/spike_sorting/bin/conda_environments/env/spike_interface_env/lib/python3.7/site-packages/MEArec/generators/templategenerator.py:13: DeprecationWarning: distutils Version classes are deprecated. Use packaging.version instead.\n",
      "  if StrictVersion(yaml.__version__) >= StrictVersion('5.0.0'):\n",
      "/nancy/user/riwata/projects/spike_sorting/bin/conda_environments/env/spike_interface_env/lib/python3.7/site-packages/MEArec/generators/recordinggenerator.py:27: DeprecationWarning: distutils Version classes are deprecated. Use packaging.version instead.\n",
      "  if StrictVersion(yaml.__version__) >= StrictVersion('5.0.0'):\n",
      "/nancy/user/riwata/projects/spike_sorting/bin/conda_environments/env/spike_interface_env/lib/python3.7/site-packages/MEArec/generation_tools.py:12: DeprecationWarning: distutils Version classes are deprecated. Use packaging.version instead.\n",
      "  if StrictVersion(yaml.__version__) >= StrictVersion('5.0.0'):\n",
      "/nancy/user/riwata/projects/spike_sorting/bin/conda_environments/env/spike_interface_env/lib/python3.7/site-packages/spikeextractors/extractors/mearecextractors/mearecextractors.py:13: DeprecationWarning: distutils Version classes are deprecated. Use packaging.version instead.\n",
      "  if StrictVersion(mr.__version__) >= '1.5.0':\n",
      "/nancy/user/riwata/projects/spike_sorting/bin/conda_environments/env/spike_interface_env/lib/python3.7/site-packages/neo/io/nixio.py:57: DeprecationWarning: distutils Version classes are deprecated. Use packaging.version instead.\n",
      "  MIN_NIX_VER = Version(\"1.5.0\")\n",
      "/nancy/user/riwata/projects/spike_sorting/bin/conda_environments/env/spike_interface_env/lib/python3.7/site-packages/neo/io/neomatlabio.py:30: DeprecationWarning: distutils Version classes are deprecated. Use packaging.version instead.\n",
      "  if version.LooseVersion(scipy.version.version) < '0.12.0':\n",
      "/nancy/user/riwata/projects/spike_sorting/bin/conda_environments/env/spike_interface_env/lib/python3.7/site-packages/setuptools/_distutils/version.py:346: DeprecationWarning: distutils Version classes are deprecated. Use packaging.version instead.\n",
      "  other = LooseVersion(other)\n",
      "/nancy/user/riwata/projects/spike_sorting/bin/conda_environments/env/spike_interface_env/lib/python3.7/site-packages/MEArec/tools.py:19: DeprecationWarning: distutils Version classes are deprecated. Use packaging.version instead.\n",
      "  if StrictVersion(yaml.__version__) >= StrictVersion('5.0.0'):\n",
      "/nancy/user/riwata/projects/spike_sorting/bin/conda_environments/env/spike_interface_env/lib/python3.7/site-packages/MEArec/simulate_cells.py:19: DeprecationWarning: distutils Version classes are deprecated. Use packaging.version instead.\n",
      "  if StrictVersion(yaml.__version__) >= StrictVersion('5.0.0'):\n",
      "/nancy/user/riwata/projects/spike_sorting/bin/conda_environments/env/spike_interface_env/lib/python3.7/site-packages/MEArec/generators/templategenerator.py:13: DeprecationWarning: distutils Version classes are deprecated. Use packaging.version instead.\n",
      "  if StrictVersion(yaml.__version__) >= StrictVersion('5.0.0'):\n",
      "/nancy/user/riwata/projects/spike_sorting/bin/conda_environments/env/spike_interface_env/lib/python3.7/site-packages/MEArec/generators/recordinggenerator.py:27: DeprecationWarning: distutils Version classes are deprecated. Use packaging.version instead.\n",
      "  if StrictVersion(yaml.__version__) >= StrictVersion('5.0.0'):\n",
      "/nancy/user/riwata/projects/spike_sorting/bin/conda_environments/env/spike_interface_env/lib/python3.7/site-packages/MEArec/generation_tools.py:12: DeprecationWarning: distutils Version classes are deprecated. Use packaging.version instead.\n",
      "  if StrictVersion(yaml.__version__) >= StrictVersion('5.0.0'):\n",
      "/nancy/user/riwata/projects/spike_sorting/bin/conda_environments/env/spike_interface_env/lib/python3.7/site-packages/spikeextractors/extractors/mearecextractors/mearecextractors.py:13: DeprecationWarning: distutils Version classes are deprecated. Use packaging.version instead.\n",
      "  if StrictVersion(mr.__version__) >= '1.5.0':\n",
      "/nancy/user/riwata/projects/spike_sorting/bin/conda_environments/env/spike_interface_env/lib/python3.7/site-packages/neo/io/nixio.py:57: DeprecationWarning: distutils Version classes are deprecated. Use packaging.version instead.\n",
      "  MIN_NIX_VER = Version(\"1.5.0\")\n",
      "/nancy/user/riwata/projects/spike_sorting/bin/conda_environments/env/spike_interface_env/lib/python3.7/site-packages/neo/io/neomatlabio.py:30: DeprecationWarning: distutils Version classes are deprecated. Use packaging.version instead.\n",
      "  if version.LooseVersion(scipy.version.version) < '0.12.0':\n",
      "/nancy/user/riwata/projects/spike_sorting/bin/conda_environments/env/spike_interface_env/lib/python3.7/site-packages/setuptools/_distutils/version.py:346: DeprecationWarning: distutils Version classes are deprecated. Use packaging.version instead.\n",
      "  other = LooseVersion(other)\n",
      "/nancy/user/riwata/projects/spike_sorting/bin/conda_environments/env/spike_interface_env/lib/python3.7/site-packages/MEArec/tools.py:19: DeprecationWarning: distutils Version classes are deprecated. Use packaging.version instead.\n",
      "  if StrictVersion(yaml.__version__) >= StrictVersion('5.0.0'):\n",
      "/nancy/user/riwata/projects/spike_sorting/bin/conda_environments/env/spike_interface_env/lib/python3.7/site-packages/MEArec/simulate_cells.py:19: DeprecationWarning: distutils Version classes are deprecated. Use packaging.version instead.\n",
      "  if StrictVersion(yaml.__version__) >= StrictVersion('5.0.0'):\n",
      "/nancy/user/riwata/projects/spike_sorting/bin/conda_environments/env/spike_interface_env/lib/python3.7/site-packages/MEArec/generators/templategenerator.py:13: DeprecationWarning: distutils Version classes are deprecated. Use packaging.version instead.\n",
      "  if StrictVersion(yaml.__version__) >= StrictVersion('5.0.0'):\n",
      "/nancy/user/riwata/projects/spike_sorting/bin/conda_environments/env/spike_interface_env/lib/python3.7/site-packages/MEArec/generators/recordinggenerator.py:27: DeprecationWarning: distutils Version classes are deprecated. Use packaging.version instead.\n",
      "  if StrictVersion(yaml.__version__) >= StrictVersion('5.0.0'):\n",
      "/nancy/user/riwata/projects/spike_sorting/bin/conda_environments/env/spike_interface_env/lib/python3.7/site-packages/MEArec/generation_tools.py:12: DeprecationWarning: distutils Version classes are deprecated. Use packaging.version instead.\n",
      "  if StrictVersion(yaml.__version__) >= StrictVersion('5.0.0'):\n",
      "/nancy/user/riwata/projects/spike_sorting/bin/conda_environments/env/spike_interface_env/lib/python3.7/site-packages/spikeextractors/extractors/mearecextractors/mearecextractors.py:13: DeprecationWarning: distutils Version classes are deprecated. Use packaging.version instead.\n",
      "  if StrictVersion(mr.__version__) >= '1.5.0':\n"
     ]
    },
    {
     "name": "stdout",
     "output_type": "stream",
     "text": [
      "Preparing output...\n",
      "Done with ms4alg.\n",
      "Cleaning tmpdir::::: /tmp/tmp0qt35geh\n",
      "mountainsort4 run time 81.41s\n",
      "Sorting finished in:  82.00750088691711\n"
     ]
    }
   ],
   "source": [
    "if not os.path.exists(child_spikesorting_output_directory):\n",
    "    start = time.time()\n",
    "    sorter_method_call(recording=recording_preprocessed,\n",
    "                                  verbose=True,\n",
    "                                   output_folder=child_spikesorting_output_directory ,\n",
    "                                   **ss_params)\n",
    "    print(\"Sorting finished in: \", time.time() - start)\n",
    "else:\n",
    "    warnings.warn(\"\"\"Directory already exists for: {}. \n",
    "    Either continue on if you are satisfied with the previous run \n",
    "    or delete the directory and run this cell again\"\"\".format(dated_spikesorting_output_directory))"
   ]
  },
  {
   "cell_type": "code",
   "execution_count": 46,
   "metadata": {
    "scrolled": true
   },
   "outputs": [],
   "source": [
    "spike_sorted_object = ss.read_sorter_folder(child_spikesorting_output_directory)"
   ]
  },
  {
   "cell_type": "markdown",
   "metadata": {},
   "source": [
    "- Plotting the Rasters"
   ]
  },
  {
   "cell_type": "code",
   "execution_count": 47,
   "metadata": {},
   "outputs": [
    {
     "data": {
      "text/plain": [
       "Text(0, 0.5, 'Unit IDs')"
      ]
     },
     "execution_count": 47,
     "metadata": {},
     "output_type": "execute_result"
    },
    {
     "data": {
      "image/png": "[encoded data removed]",
      "text/plain": [
       "<Figure size 720x432 with 1 Axes>"
      ]
     },
     "metadata": {
      "needs_background": "light"
     },
     "output_type": "display_data"
    }
   ],
   "source": [
    "sw.plot_rasters(spike_sorted_object)\n",
    "plt.ylabel(\"Unit IDs\")"
   ]
  },
  {
   "cell_type": "code",
   "execution_count": null,
   "metadata": {},
   "outputs": [],
   "source": []
  }
 ],
 "metadata": {
  "kernelspec": {
   "display_name": "Python 3 (ipykernel)",
   "language": "python",
   "name": "python3"
  },
  "language_info": {
   "codemirror_mode": {
    "name": "ipython",
    "version": 3
   },
   "file_extension": ".py",
   "mimetype": "text/x-python",
   "name": "python",
   "nbconvert_exporter": "python",
   "pygments_lexer": "ipython3",
   "version": "3.7.12"
  },
  "vscode": {
   "interpreter": {
    "hash": "916dbcbb3f70747c44a77c7bcd40155683ae19c65e1c03b4aa3499c5328201f1"
   }
  }
 },
 "nbformat": 4,
 "nbformat_minor": 1
}
